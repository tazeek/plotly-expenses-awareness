{
 "cells": [
  {
   "cell_type": "code",
   "execution_count": null,
   "metadata": {},
   "outputs": [],
   "source": [
    "from ExpenseHandler import ExpenseHandler\n",
    "\n",
    "import plotly.graph_objects as go"
   ]
  },
  {
   "cell_type": "code",
   "execution_count": null,
   "metadata": {},
   "outputs": [],
   "source": [
    "# Create Object\n",
    "\n",
    "expenses_obj = ExpenseHandler()"
   ]
  },
  {
   "cell_type": "code",
   "execution_count": null,
   "metadata": {},
   "outputs": [],
   "source": [
    "# Time series plot (per day)\n",
    "costs_df = expenses_obj.annualCostsPeriod('date')\n",
    "\n",
    "# Begin plotting here\n",
    "fig = go.Figure([\n",
    "    go.Scatter(\n",
    "        x=costs_df['date'], \n",
    "        y=costs_df['cost'],\n",
    "        mode='lines+markers'\n",
    "    )\n",
    "])\n",
    "\n",
    "fig.update_layout(title_text='Overview of expenses (Daily)')\n",
    "fig.update_xaxes(rangeslider_visible=True)\n",
    "fig.show()"
   ]
  },
  {
   "cell_type": "code",
   "execution_count": null,
   "metadata": {},
   "outputs": [],
   "source": [
    "# Time series plot (per month)\n",
    "costs_df = expenses_obj.annualCostsPeriod('month')\n",
    "\n",
    "# Begin plotting here\n",
    "fig = go.Figure([\n",
    "    go.Scatter(\n",
    "        x=costs_df['month'], \n",
    "        y=costs_df['cost'],\n",
    "        mode='lines+markers'\n",
    "    )\n",
    "])\n",
    "\n",
    "fig.update_layout(title_text='Overview of expenses (Monthly)')\n",
    "fig.update_xaxes(rangeslider_visible=True)\n",
    "fig.show()"
   ]
  },
  {
   "cell_type": "code",
   "execution_count": null,
   "metadata": {},
   "outputs": [],
   "source": [
    "categories, values = expenses_obj.categoryCounts()\n",
    "\n",
    "fig = go.Figure([go.Bar(x=categories, y=values)])\n",
    "\n",
    "fig.update_layout(\n",
    "    title='Count categories of expenses',\n",
    "    yaxis=dict(\n",
    "        title='Counts'\n",
    "    ),\n",
    "    xaxis=dict(\n",
    "        title='Categories'\n",
    "    )\n",
    ")\n",
    "\n",
    "fig.show()"
   ]
  },
  {
   "cell_type": "code",
   "execution_count": null,
   "metadata": {},
   "outputs": [],
   "source": [
    "days_df = expenses_obj.accumulativeDayCosts()\n",
    "\n",
    "fig = go.Figure([go.Bar(x=days_df['day'], y=days_df['cost'])])\n",
    "\n",
    "fig.update_layout(\n",
    "    title='Total spent: week days calculation',\n",
    "    yaxis=dict(\n",
    "        title='Total'\n",
    "    ),\n",
    "    xaxis=dict(\n",
    "        title='Day'\n",
    "    ),\n",
    "    width=800,\n",
    "    height=600\n",
    ")\n",
    "\n",
    "fig.show()"
   ]
  },
  {
   "cell_type": "code",
   "execution_count": null,
   "metadata": {},
   "outputs": [],
   "source": [
    "zero_count, expense_count = expenses_obj.getExpenseAndNonExpense()\n",
    "\n",
    "fig = go.Figure([go.Bar(x=['Expenses','Zero expenses'], y=[zero_count,expense_count])])\n",
    "\n",
    "fig.update_layout(\n",
    "    title='Counts: Expenses vs Zero Expenses',\n",
    "    yaxis=dict(\n",
    "        title='Counts'\n",
    "    ),\n",
    "    xaxis=dict(\n",
    "        title='Categories'\n",
    "    ),\n",
    "    width=600,\n",
    "    height=600\n",
    ")\n",
    "\n",
    "fig.show()"
   ]
  }
 ],
 "metadata": {
  "kernelspec": {
   "display_name": "Python 3",
   "language": "python",
   "name": "python3"
  },
  "language_info": {
   "codemirror_mode": {
    "name": "ipython",
    "version": 3
   },
   "file_extension": ".py",
   "mimetype": "text/x-python",
   "name": "python",
   "nbconvert_exporter": "python",
   "pygments_lexer": "ipython3",
   "version": "3.7.6"
  }
 },
 "nbformat": 4,
 "nbformat_minor": 4
}
