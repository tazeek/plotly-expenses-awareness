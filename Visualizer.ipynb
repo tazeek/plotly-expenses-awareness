{
 "cells": [
  {
   "cell_type": "code",
   "execution_count": null,
   "metadata": {},
   "outputs": [],
   "source": [
    "from ExpenseHandler import ExpenseHandler\n",
    "\n",
    "import plotly.graph_objects as go"
   ]
  },
  {
   "cell_type": "code",
   "execution_count": null,
   "metadata": {},
   "outputs": [],
   "source": [
    "# Read CSV file\n",
    "\n",
    "expenses_obj = ExpenseHandler()\n",
    "\n",
    "expenses_obj.fillZeroExpenseDates()\n",
    "expenses_obj.fillMonthNumber()\n",
    "\n",
    "expenses_df = expenses_obj.getExpenseDF()"
   ]
  },
  {
   "cell_type": "code",
   "execution_count": null,
   "metadata": {},
   "outputs": [],
   "source": [
    "# Time series plot (per day)\n",
    "costs_df = expenses_obj.annualCosts('date')\n",
    "\n",
    "# Begin plotting here\n",
    "fig = go.Figure([\n",
    "    go.Scatter(\n",
    "        x=costs_df['date'], \n",
    "        y=costs_df['cost'],\n",
    "        mode='lines+markers'\n",
    "    )\n",
    "])\n",
    "\n",
    "fig.update_layout(title_text='Overview of expenses (Daily)')\n",
    "fig.update_xaxes(rangeslider_visible=True)\n",
    "fig.show()"
   ]
  },
  {
   "cell_type": "code",
   "execution_count": null,
   "metadata": {},
   "outputs": [],
   "source": [
    "# Time series plot (per month)\n",
    "costs_df = expenses_obj.annualCosts('month')\n",
    "\n",
    "# Begin plotting here\n",
    "fig = go.Figure([\n",
    "    go.Scatter(\n",
    "        x=costs_df['month'], \n",
    "        y=costs_df['cost'],\n",
    "        mode='lines+markers'\n",
    "    )\n",
    "])\n",
    "\n",
    "fig.update_layout(title_text='Overview of expenses (Monthly)')\n",
    "fig.update_xaxes(rangeslider_visible=True)\n",
    "fig.show()"
   ]
  },
  {
   "cell_type": "code",
   "execution_count": null,
   "metadata": {},
   "outputs": [],
   "source": [
    "categories, values = expenses_obj.categoryCounts()\n",
    "\n",
    "fig = go.Figure([go.Bar(x=categories, y=values)])\n",
    "\n",
    "fig.update_layout(\n",
    "    title='Count categories of expenses',\n",
    "    yaxis=dict(\n",
    "        title='Counts'\n",
    "    ),\n",
    "    xaxis=dict(\n",
    "        title='Categories'\n",
    "    )\n",
    ")\n",
    "\n",
    "fig.show()"
   ]
  },
  {
   "cell_type": "code",
   "execution_count": null,
   "metadata": {},
   "outputs": [],
   "source": [
    "expenses_only_df = expenses_df[expenses_df['category'] != 'zero expenses']\n",
    "non_expenses_df = expenses_df[expenses_df['category'] == 'zero expenses']\n",
    "\n",
    "fig = go.Figure([go.Bar(x=['Expenses','Zero expenses'], y=[len(expenses_only_df),len(non_expenses_df)])])\n",
    "\n",
    "fig.update_layout(\n",
    "    title='Counts: Expenses vs Zero Expenses',\n",
    "    yaxis=dict(\n",
    "        title='Counts'\n",
    "    ),\n",
    "    xaxis=dict(\n",
    "        title='Categories'\n",
    "    ),\n",
    "    width=600,\n",
    "    height=600\n",
    ")\n",
    "\n",
    "fig.show()"
   ]
  },
  {
   "cell_type": "code",
   "execution_count": null,
   "metadata": {},
   "outputs": [],
   "source": [
    "# Find day of week from date\n",
    "day_number_week = [date.weekday() for date in expenses_df['date']]\n",
    "\n",
    "expenses_df = expenses_df.assign(day = day_number_week)\n",
    "print(expenses_df.head(20))"
   ]
  },
  {
   "cell_type": "code",
   "execution_count": null,
   "metadata": {},
   "outputs": [],
   "source": [
    "days_df = expenses_df.groupby('day')['cost'].sum()\n",
    "\n",
    "days = [calendar.day_name[key] for key in days_df.keys()]\n",
    "total_spent = days_df.values\n",
    "\n",
    "fig = go.Figure([go.Bar(x=days, y=total_spent)])\n",
    "\n",
    "fig.update_layout(\n",
    "    title='Total spent: week days calculation',\n",
    "    yaxis=dict(\n",
    "        title='Total'\n",
    "    ),\n",
    "    xaxis=dict(\n",
    "        title='Day'\n",
    "    ),\n",
    "    width=800,\n",
    "    height=600\n",
    ")\n",
    "\n",
    "fig.show()"
   ]
  }
 ],
 "metadata": {
  "kernelspec": {
   "display_name": "Python 3",
   "language": "python",
   "name": "python3"
  },
  "language_info": {
   "codemirror_mode": {
    "name": "ipython",
    "version": 3
   },
   "file_extension": ".py",
   "mimetype": "text/x-python",
   "name": "python",
   "nbconvert_exporter": "python",
   "pygments_lexer": "ipython3",
   "version": "3.7.6"
  }
 },
 "nbformat": 4,
 "nbformat_minor": 4
}
